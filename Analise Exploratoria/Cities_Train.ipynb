{
  "nbformat": 4,
  "nbformat_minor": 0,
  "metadata": {
    "colab": {
      "provenance": [],
      "authorship_tag": "ABX9TyPE6Hz1Y1QcipUk2RzweMMe",
      "include_colab_link": true
    },
    "kernelspec": {
      "name": "python3",
      "display_name": "Python 3"
    },
    "language_info": {
      "name": "python"
    }
  },
  "cells": [
    {
      "cell_type": "markdown",
      "metadata": {
        "id": "view-in-github",
        "colab_type": "text"
      },
      "source": [
        "<a href=\"https://colab.research.google.com/github/AlexCarvalho0001/Projeto_II/blob/main/Analise%20Exploratoria/Cities_Train.ipynb\" target=\"_parent\"><img src=\"https://colab.research.google.com/assets/colab-badge.svg\" alt=\"Open In Colab\"/></a>"
      ]
    },
    {
      "cell_type": "code",
      "execution_count": 13,
      "metadata": {
        "id": "-WIY8niPAq52"
      },
      "outputs": [],
      "source": [
        "#Bibliotecas\n",
        "import pandas as pd\n",
        "import seaborn as sns\n",
        "import matplotlib.pyplot as plt"
      ]
    },
    {
      "cell_type": "code",
      "source": [
        "#Datasets\n",
        "url_cities = 'https://raw.githubusercontent.com/AlexCarvalho0001/Projeto_II/main/Datasets/cities.csv?token=GHSAT0AAAAAACUCS3ELZGDLLECMP4TLGBRCZT3FKQA'\n",
        "url_product = 'https://raw.githubusercontent.com/AlexCarvalho0001/Projeto_II/main/Datasets/product.csv'\n",
        "cities = pd.read_csv(url_cities,delimiter=',')\n",
        "products = pd.read_csv(url_product,delimiter=',')\n"
      ],
      "metadata": {
        "id": "xZ-laFRZHh_j"
      },
      "execution_count": 24,
      "outputs": []
    },
    {
      "cell_type": "code",
      "source": [
        "#EDA Cities\n",
        "cities.info()"
      ],
      "metadata": {
        "id": "yDlqUwALKuc_",
        "outputId": "be8071c9-fdce-42ae-e620-2830c3e07798",
        "colab": {
          "base_uri": "https://localhost:8080/"
        }
      },
      "execution_count": 15,
      "outputs": [
        {
          "output_type": "stream",
          "name": "stdout",
          "text": [
            "<class 'pandas.core.frame.DataFrame'>\n",
            "RangeIndex: 63 entries, 0 to 62\n",
            "Data columns (total 6 columns):\n",
            " #   Column        Non-Null Count  Dtype \n",
            "---  ------        --------------  ----- \n",
            " 0   store_id      63 non-null     object\n",
            " 1   storetype_id  63 non-null     object\n",
            " 2   store_size    63 non-null     int64 \n",
            " 3   city_id_old   63 non-null     object\n",
            " 4   country_id    63 non-null     object\n",
            " 5   city_code     63 non-null     object\n",
            "dtypes: int64(1), object(5)\n",
            "memory usage: 3.1+ KB\n"
          ]
        }
      ]
    },
    {
      "cell_type": "code",
      "source": [
        "contagem_cidades = cities['store_id'].value_counts()\n",
        "cidades_duplicadas = contagem_cidades[contagem_cidades>1]\n",
        "print(contagem_cidades)\n",
        "print(cidades_duplicadas)\n",
        "\n",
        "#Não temos cidades duplicadas"
      ],
      "metadata": {
        "id": "N6CN2C3_MWJn",
        "outputId": "2766a3f9-ea8d-4934-b6ad-f5d6020202c1",
        "colab": {
          "base_uri": "https://localhost:8080/"
        }
      },
      "execution_count": 22,
      "outputs": [
        {
          "output_type": "stream",
          "name": "stdout",
          "text": [
            "store_id\n",
            "S0036    1\n",
            "S0126    1\n",
            "S0120    1\n",
            "S0080    1\n",
            "S0014    1\n",
            "        ..\n",
            "S0099    1\n",
            "S0059    1\n",
            "S0097    1\n",
            "S0007    1\n",
            "S0061    1\n",
            "Name: count, Length: 63, dtype: int64\n",
            "Series([], Name: count, dtype: int64)\n"
          ]
        }
      ]
    },
    {
      "cell_type": "markdown",
      "source": [],
      "metadata": {
        "id": "nA_1MmCtRi9G"
      }
    },
    {
      "cell_type": "code",
      "source": [],
      "metadata": {
        "id": "j0IC4id6Rbsw",
        "outputId": "a1d1ed17-289d-4388-e582-321c900c0442",
        "colab": {
          "base_uri": "https://localhost:8080/"
        }
      },
      "execution_count": 23,
      "outputs": [
        {
          "output_type": "stream",
          "name": "stdout",
          "text": [
            "Series([], Name: count, dtype: int64)\n"
          ]
        }
      ]
    }
  ]
}